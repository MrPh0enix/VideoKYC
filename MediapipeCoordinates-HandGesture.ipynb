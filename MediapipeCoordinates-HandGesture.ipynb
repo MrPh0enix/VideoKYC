{
 "cells": [
  {
   "cell_type": "code",
   "execution_count": 1,
   "id": "7f1edae1",
   "metadata": {},
   "outputs": [],
   "source": [
    "import mediapipe as mp\n",
    "import cv2\n",
    "import pandas as pd\n",
    "import numpy as np\n",
    "import cvzone # only to create hand outline inlay\n",
    "import random\n",
    "#import tqdm # only for progress bar"
   ]
  },
  {
   "cell_type": "code",
   "execution_count": 2,
   "id": "d0124959",
   "metadata": {},
   "outputs": [],
   "source": [
    "mp_drawing = mp.solutions.drawing_utils\n",
    "mp_hand = mp.solutions.hands\n",
    "mp_face_detection = mp.solutions.face_detection"
   ]
  },
  {
   "cell_type": "code",
   "execution_count": 3,
   "id": "a24de0ef",
   "metadata": {},
   "outputs": [],
   "source": [
    "idealhandLndmrk = {5:{'x':0.3498418629169464, 'y':0.47491520643234253},17:{'x':0.22911912202835083, 'y':0.5145605802536011}, 0:{'x':0.2968618869781494, 'y':0.784920334815979}}\n",
    "idealfaceLndmrk = {'xmin': 0.5979199409484863, 'ymin': 0.3973429799079895, 'width': 0.1899573802947998, 'height': 0.3376706838607788}"
   ]
  },
  {
   "cell_type": "code",
   "execution_count": null,
   "id": "6fa53161",
   "metadata": {},
   "outputs": [],
   "source": []
  },
  {
   "cell_type": "code",
   "execution_count": 4,
   "id": "911912f4",
   "metadata": {},
   "outputs": [],
   "source": [
    "# Function to check the number being shown\n",
    "\n",
    "def checkSign(handLndmrk):\n",
    "    txt = 'Not recognized'          \n",
    "    if (handLndmrk[4].x > handLndmrk[2].x) & (handLndmrk[20].y < handLndmrk[18].y) & (handLndmrk[16].y < handLndmrk[14].y) & (handLndmrk[12].y < handLndmrk[10].y) & (handLndmrk[8].y < handLndmrk[6].y):\n",
    "                    txt = 'Five'\n",
    "    elif (handLndmrk[20].y < handLndmrk[18].y) & (handLndmrk[16].y < handLndmrk[14].y) & (handLndmrk[12].y < handLndmrk[10].y) & (handLndmrk[8].y < handLndmrk[6].y) & (handLndmrk[4].x < handLndmrk[2].x):\n",
    "                    txt = 'Four'\n",
    "    elif (handLndmrk[16].y < handLndmrk[14].y) & (handLndmrk[12].y < handLndmrk[10].y) & (handLndmrk[8].y < handLndmrk[6].y) & (handLndmrk[20].y > handLndmrk[18].y) & (handLndmrk[4].x < handLndmrk[2].x):\n",
    "                    txt = 'Three'\n",
    "    elif (handLndmrk[12].y < handLndmrk[10].y) & (handLndmrk[8].y < handLndmrk[6].y) & (handLndmrk[16].y > handLndmrk[14].y) & (handLndmrk[20].y > handLndmrk[18].y) & (handLndmrk[4].x < handLndmrk[2].x):  \n",
    "                    txt = 'Two'\n",
    "    elif (handLndmrk[8].y < handLndmrk[6].y) & (handLndmrk[12].y > handLndmrk[10].y) & (handLndmrk[16].y > handLndmrk[14].y) & (handLndmrk[20].y > handLndmrk[18].y) & (handLndmrk[4].x < handLndmrk[2].x):\n",
    "                    txt = 'One'\n",
    "    elif (handLndmrk[8].y > handLndmrk[6].y) & (handLndmrk[12].y > handLndmrk[10].y) & (handLndmrk[16].y > handLndmrk[14].y) & (handLndmrk[20].y > handLndmrk[18].y) & (handLndmrk[4].x < handLndmrk[2].x):\n",
    "                    txt = 'Zero'\n",
    "                    \n",
    "    return txt"
   ]
  },
  {
   "cell_type": "code",
   "execution_count": 5,
   "id": "6176070e",
   "metadata": {},
   "outputs": [],
   "source": [
    "# function to check whether the user has placed their hand on the indicated section. Any changes to the dimensions in \n",
    "# showBox function must also reflect here.\n",
    "\n",
    "def checkValidity(handLndmrk, faceCoord, ShowBox = False, toleranceFace = 150, toleranceHand = 60):\n",
    "        \n",
    "    if ShowBox == True:\n",
    "        showBox(img, toleranceHand, toleranceFace)\n",
    "    if faceCheck(faceCoord, toleranceFace):\n",
    "        if handCheck(handLndmrk, toleranceHand):\n",
    "            return True\n",
    "    return False\n",
    "\n",
    "\n",
    "def faceCheck(faceCoord, toleranceFace):\n",
    "    if ((faceCoord.xmin*img.shape[1]) > (round(idealfaceLndmrk['xmin']*img.shape[1])-toleranceFace)) & ((faceCoord.ymin*img.shape[0]) > (round(idealfaceLndmrk['ymin']*img.shape[0])-toleranceFace)):\n",
    "        if (((faceCoord.xmin+faceCoord.width)*img.shape[1])<(round((idealfaceLndmrk['xmin']+idealfaceLndmrk['width'])*img.shape[1])+toleranceFace)) & (((faceCoord.ymin+faceCoord.height)*img.shape[0])<(round((idealfaceLndmrk['ymin']+idealfaceLndmrk['height'])*img.shape[0])+toleranceFace)):\n",
    "            return True\n",
    "    return False\n",
    "    \n",
    "def handCheck(handLndmrk, toleranceHand):\n",
    "    if (abs((handLndmrk[5].x*img.shape[1])-round(idealhandLndmrk[5]['x']*img.shape[1])) < toleranceHand) & (abs((handLndmrk[5].y*img.shape[0])-round(idealhandLndmrk[5]['y']*img.shape[0])) < toleranceHand):\n",
    "        if (abs((handLndmrk[17].x*img.shape[1])-round(idealhandLndmrk[17]['x']*img.shape[1])) < toleranceHand) & (abs((handLndmrk[17].y*img.shape[0])-round(idealhandLndmrk[17]['y']*img.shape[0])) < toleranceHand):\n",
    "            if (abs((handLndmrk[0].x*img.shape[1])-round(idealhandLndmrk[0]['x']*img.shape[1])) < toleranceHand) & (abs((handLndmrk[0].y*img.shape[0])-round(idealhandLndmrk[0]['y']*img.shape[0])) < toleranceHand):\n",
    "                return True\n",
    "    return False"
   ]
  },
  {
   "cell_type": "code",
   "execution_count": 6,
   "id": "89824ae3",
   "metadata": {},
   "outputs": [],
   "source": [
    "# Function to show the detection boxes used to check validity. Any changes to the dimensions in \n",
    "# checkValidity function must also reflect here.\n",
    "\n",
    "def showBox(img, toleranceHand, toleranceFace):\n",
    "    #face box\n",
    "    cv2.rectangle(img, \n",
    "                  (round(idealfaceLndmrk['xmin']*img.shape[1])-toleranceFace, round(idealfaceLndmrk['ymin']*img.shape[0])-toleranceFace),\n",
    "                  (round((idealfaceLndmrk['xmin']+idealfaceLndmrk['width'])*img.shape[1])+toleranceFace, \n",
    "                   round((idealfaceLndmrk['ymin']+idealfaceLndmrk['height'])*img.shape[0])+toleranceFace),\n",
    "                  (255,141,47), 2)\n",
    "    \n",
    "    #partition based validation\n",
    "#     cv2.line(img, (round(img.shape[1]*0.5), 0), (round(img.shape[1]*0.5), img.shape[0]), (255,141,47), 2)\n",
    "    \n",
    "    # point5\n",
    "    cv2.rectangle(img, (round(idealhandLndmrk[5]['x']*img.shape[1])-toleranceHand, round(idealhandLndmrk[5]['y']*img.shape[0])-toleranceHand), (round(idealhandLndmrk[5]['x']*img.shape[1])+toleranceHand, round(idealhandLndmrk[5]['y']*img.shape[0])+toleranceHand), (255, 141, 47), 2)\n",
    "    cv2.circle(img, (round(idealhandLndmrk[5]['x']*img.shape[1]),round(idealhandLndmrk[5]['y']*img.shape[0])), radius=1, color=(255, 0, 0), thickness=3)\n",
    "    # point17\n",
    "    cv2.rectangle(img, (round(idealhandLndmrk[17]['x']*img.shape[1])-toleranceHand, round(idealhandLndmrk[17]['y']*img.shape[0])-toleranceHand), (round(idealhandLndmrk[17]['x']*img.shape[1])+toleranceHand, round(idealhandLndmrk[17]['y']*img.shape[0])+toleranceHand), (255, 141, 47), 2)\n",
    "    cv2.circle(img, (round(idealhandLndmrk[17]['x']*img.shape[1]),round(idealhandLndmrk[17]['y']*img.shape[0])), radius=1, color=(255, 0, 0), thickness=3)\n",
    "    # point0\n",
    "    cv2.rectangle(img, (round(idealhandLndmrk[0]['x']*img.shape[1])-toleranceHand, round(idealhandLndmrk[0]['y']*img.shape[0])-toleranceHand), (round(idealhandLndmrk[0]['x']*img.shape[1])+toleranceHand, round(idealhandLndmrk[0]['y']*img.shape[0])+toleranceHand), (255, 141, 47), 2)\n",
    "    cv2.circle(img, (round(idealhandLndmrk[0]['x']*img.shape[1]),round(idealhandLndmrk[0]['y']*img.shape[0])), radius=1, color=(255, 0, 0), thickness=3)\n",
    "    \n",
    "    return True\n",
    "\n"
   ]
  },
  {
   "cell_type": "code",
   "execution_count": 7,
   "id": "52f68cc9",
   "metadata": {},
   "outputs": [],
   "source": [
    "def game(handLndmrk, l):\n",
    "    global counter\n",
    "    t = checkSign(handLndmrk)\n",
    "    if t == l:\n",
    "        counter+=1\n",
    "    elif (t!=l) & (counter>0) :\n",
    "        counter-=1\n",
    "    return counter,t\n",
    "        \n",
    "def createnNum():\n",
    "    l = random.choice(['Zero', 'One', 'Two', 'Three', 'Four', 'Five'])\n",
    "    return l\n",
    "        \n",
    "\n"
   ]
  },
  {
   "cell_type": "code",
   "execution_count": 8,
   "id": "f6e14742",
   "metadata": {},
   "outputs": [],
   "source": [
    "# image used to overlay the hand outline\n",
    "\n",
    "overlay = cv2.imread(r'C:\\Users\\USER\\Desktop\\machineLearningEx\\images\\hand4-res.png', cv2.IMREAD_UNCHANGED)\n"
   ]
  },
  {
   "cell_type": "code",
   "execution_count": 11,
   "id": "bb887a03",
   "metadata": {},
   "outputs": [],
   "source": [
    "# main code to open camera and perform detection.\n",
    "\n",
    "capture = cv2.VideoCapture(0)\n",
    "capture.set(3, 1280)\n",
    "capture.set(4, 960)\n",
    "\n",
    "with mp_face_detection.FaceDetection(model_selection=1, min_detection_confidence=0.5) as face_detection: \n",
    "    with mp_hand.Hands(min_detection_confidence=0.5, min_tracking_confidence=0.5, max_num_hands=1) as hands:\n",
    "            flag = False\n",
    "            counter = 0\n",
    "            l=''\n",
    "            while True:\n",
    "                ret, img = capture.read()\n",
    "                result = hands.process(img)\n",
    "                resultface = face_detection.process(img)\n",
    "                txt = None\n",
    "                txt2 = 'Place your right hand on the red box and your face on the blue box'\n",
    "                if resultface.detections:\n",
    "                      for detection in resultface.detections:\n",
    "                            faceCoord = detection.location_data.relative_bounding_box\n",
    "#                             mp_drawing.draw_detection(img, detection)\n",
    "                \n",
    "                #Remove this once finished\n",
    "                cv2.rectangle(img, \n",
    "                  (round(idealfaceLndmrk['xmin']*img.shape[1])-100, round(idealfaceLndmrk['ymin']*img.shape[0])-100),\n",
    "                  (round((idealfaceLndmrk['xmin']+idealfaceLndmrk['width'])*img.shape[1])+100, \n",
    "                   round((idealfaceLndmrk['ymin']+idealfaceLndmrk['height'])*img.shape[0])+100),\n",
    "                  (255,141,47), 2)\n",
    "                \n",
    "                if result.multi_hand_landmarks:\n",
    "                    for num,hand in enumerate(result.multi_hand_landmarks):\n",
    "                        mp_drawing.draw_landmarks(img, hand, mp_hand.HAND_CONNECTIONS)\n",
    "                        handLndmrk = hand.landmark\n",
    "                        \n",
    "                    if checkValidity(handLndmrk, faceCoord, ShowBox = True):\n",
    "                        if flag == False:\n",
    "                            l = createnNum()\n",
    "                            flag = True\n",
    "                        txt2 = 'Detection is live, Show me the number: '+ l\n",
    "                        counter, txt = game(handLndmrk, l)\n",
    "                        if counter == 100:\n",
    "                            flag = False\n",
    "                            counter = 0\n",
    "\n",
    "                #showBox(img)\n",
    "#                 img = cv2.flip(img, flipCode = 90) \n",
    "                if l == txt:\n",
    "                    cv2.putText(img, txt,(20,120),cv2.FONT_HERSHEY_SIMPLEX, 1, (0, 255, 0), 3, cv2.LINE_AA)\n",
    "                if l != txt:\n",
    "                    cv2.putText(img, txt,(20,120),cv2.FONT_HERSHEY_SIMPLEX, 1, (0, 0, 255), 3, cv2.LINE_AA)\n",
    "\n",
    "                cv2.putText(img, txt2,(20,50),cv2.FONT_HERSHEY_SIMPLEX, 1, (255, 141, 47), 2, cv2.LINE_AA)\n",
    "\n",
    "#                 img = cvzone.overlayPNG(img, overlay, [450,80])\n",
    "                \n",
    "                cv2.rectangle(img,(1070,80),(630,600),(0,0,255), 2)\n",
    "                \n",
    "                \n",
    "\n",
    "\n",
    "                cv2.imshow('Web cam:', img)\n",
    "\n",
    "                if cv2.waitKey(5) & 0xFF == ord('q'):\n",
    "                     break\n",
    "                    \n",
    "capture.release()                    \n",
    "cv2.destroyAllWindows()\n"
   ]
  },
  {
   "cell_type": "code",
   "execution_count": null,
   "id": "911c3f37",
   "metadata": {},
   "outputs": [],
   "source": [
    "capture.release()\n",
    "cv2.destroyAllWindows()"
   ]
  },
  {
   "cell_type": "code",
   "execution_count": null,
   "id": "40a7b1f4",
   "metadata": {},
   "outputs": [],
   "source": [
    "detection.location_data.relative_bounding_box"
   ]
  },
  {
   "cell_type": "code",
   "execution_count": null,
   "id": "5cb35f9b",
   "metadata": {},
   "outputs": [],
   "source": [
    "# Ideal points taken\n",
    "\n",
    "# handLndmrk[5]\n",
    "# x: 0.3498418629169464\n",
    "# y: 0.47491520643234253\n",
    "# z: -0.025790967047214508\n",
    "# handLndmrk[17]\n",
    "# x: 0.22911912202835083\n",
    "# y: 0.5145605802536011\n",
    "# z: -0.030962718650698662\n",
    "# handLndmrk[0]\n",
    "# x: 0.2968618869781494\n",
    "# y: 0.784920334815979\n",
    "# z: 5.765244281974446e-07\n",
    "\n",
    "# img.shape\n",
    "# (720, 1280, 3)"
   ]
  },
  {
   "cell_type": "code",
   "execution_count": null,
   "id": "7dba450e",
   "metadata": {},
   "outputs": [],
   "source": []
  },
  {
   "cell_type": "code",
   "execution_count": null,
   "id": "2998cc2b",
   "metadata": {},
   "outputs": [],
   "source": []
  },
  {
   "cell_type": "code",
   "execution_count": null,
   "id": "d303e282",
   "metadata": {},
   "outputs": [],
   "source": []
  },
  {
   "cell_type": "code",
   "execution_count": null,
   "id": "7d9393ef",
   "metadata": {},
   "outputs": [],
   "source": []
  },
  {
   "cell_type": "code",
   "execution_count": null,
   "id": "a11caa04",
   "metadata": {},
   "outputs": [],
   "source": []
  }
 ],
 "metadata": {
  "kernelspec": {
   "display_name": "Python 3 (ipykernel)",
   "language": "python",
   "name": "python3"
  },
  "language_info": {
   "codemirror_mode": {
    "name": "ipython",
    "version": 3
   },
   "file_extension": ".py",
   "mimetype": "text/x-python",
   "name": "python",
   "nbconvert_exporter": "python",
   "pygments_lexer": "ipython3",
   "version": "3.9.13"
  }
 },
 "nbformat": 4,
 "nbformat_minor": 5
}
